{
 "cells": [
  {
   "cell_type": "code",
   "execution_count": null,
   "id": "920fb068",
   "metadata": {
    "scrolled": true
   },
   "outputs": [],
   "source": [
    "from takt import *\n",
    "import music21"
   ]
  },
  {
   "cell_type": "code",
   "execution_count": null,
   "id": "a8f3c97f",
   "metadata": {
    "scrolled": true
   },
   "outputs": [],
   "source": [
    "s = music21.stream.Stream()\n",
    "n = music21.note.Note('C4')\n",
    "s.append(n)\n",
    "Score.frommusic21(s).music21().show()"
   ]
  },
  {
   "cell_type": "code",
   "execution_count": null,
   "id": "8115b565",
   "metadata": {},
   "outputs": [],
   "source": [
    "s = music21.corpus.parse('bwv66.6')\n",
    "# s.show()\n",
    "Score.frommusic21(s).music21().show()"
   ]
  },
  {
   "cell_type": "code",
   "execution_count": null,
   "id": "05e4d70d",
   "metadata": {},
   "outputs": [],
   "source": [
    "(readsmf('menuet.mid') & sc.keysig('G-major')).music21().show()"
   ]
  },
  {
   "cell_type": "code",
   "execution_count": null,
   "id": "482d38ca",
   "metadata": {
    "scrolled": true
   },
   "outputs": [],
   "source": [
    "mml('[{L=L128 ceg} ^c]').music21().show()"
   ]
  },
  {
   "cell_type": "code",
   "execution_count": null,
   "id": "72b6cd96",
   "metadata": {},
   "outputs": [],
   "source": [
    "mml('[{L=10 ceg} L4 ^c]').music21().show()"
   ]
  },
  {
   "cell_type": "code",
   "execution_count": null,
   "id": "0aed7286",
   "metadata": {
    "scrolled": true
   },
   "outputs": [],
   "source": [
    "mml('L8 c~rd~re~').Render().music21(min_note=L64).show()"
   ]
  },
  {
   "cell_type": "code",
   "execution_count": null,
   "id": "797b727e",
   "metadata": {},
   "outputs": [],
   "source": [
    "mml('$timesig(4,4) dr=100 cdef tk=3 $keysig(1,tk=3) [gb]ab^c $keysig(-3) tk=1 cdef').Render().music21().show()"
   ]
  },
  {
   "cell_type": "code",
   "execution_count": null,
   "id": "ea10a453",
   "metadata": {
    "scrolled": true
   },
   "outputs": [],
   "source": [
    "mml('{dr=3 cde} c').Render().music21(L32).show()"
   ]
  },
  {
   "cell_type": "code",
   "execution_count": null,
   "id": "5ac92f00",
   "metadata": {},
   "outputs": [],
   "source": [
    "mml('{c(dr=50)re}/3').Render().music21().show()"
   ]
  },
  {
   "cell_type": "code",
   "execution_count": null,
   "id": "73772aec",
   "metadata": {
    "scrolled": true
   },
   "outputs": [],
   "source": [
    "mml('{c/d/~e}/3').music21().show()"
   ]
  },
  {
   "cell_type": "code",
   "execution_count": null,
   "id": "4f46cafd",
   "metadata": {},
   "outputs": [],
   "source": [
    "mml('$timesig(4,4) {cdefcdefcdefg}**/13 cdef').music21().show()"
   ]
  },
  {
   "cell_type": "code",
   "execution_count": null,
   "id": "ed7a2909",
   "metadata": {},
   "outputs": [],
   "source": [
    "mml('[{C D E*}|Voice(1) {C C C C}]').music21().show()"
   ]
  },
  {
   "cell_type": "code",
   "execution_count": null,
   "id": "ecabdd12",
   "metadata": {
    "scrolled": false
   },
   "outputs": [],
   "source": [
    "mml('{ccc~cc}/3').music21().show()"
   ]
  },
  {
   "cell_type": "code",
   "execution_count": null,
   "id": "849fdad5",
   "metadata": {
    "scrolled": false
   },
   "outputs": [],
   "source": [
    "s = mml('{crd~ef}/3').music21()\n",
    "s.show()"
   ]
  },
  {
   "cell_type": "code",
   "execution_count": null,
   "id": "b9456d5f",
   "metadata": {
    "scrolled": false
   },
   "outputs": [],
   "source": [
    "mml('{c~~~~c}/3').music21().show()"
   ]
  },
  {
   "cell_type": "code",
   "execution_count": null,
   "id": "c51d02df",
   "metadata": {
    "scrolled": true
   },
   "outputs": [],
   "source": [
    "mml('{rd*f*}*/5').music21().show()"
   ]
  },
  {
   "cell_type": "code",
   "execution_count": null,
   "id": "030b2e4c",
   "metadata": {
    "scrolled": true
   },
   "outputs": [],
   "source": [
    "mml('{cdefgabcdefga}/13 ^c').music21().show()"
   ]
  },
  {
   "cell_type": "code",
   "execution_count": null,
   "id": "407ad92f",
   "metadata": {
    "scrolled": true
   },
   "outputs": [],
   "source": [
    "mml('{cdefgabcdefgacdef}////17^c').music21().show()"
   ]
  },
  {
   "cell_type": "code",
   "execution_count": null,
   "id": "0abbe4a1",
   "metadata": {
    "scrolled": false
   },
   "outputs": [],
   "source": [
    "mml('{cd[eg]~fd}/3').music21().show()"
   ]
  },
  {
   "cell_type": "code",
   "execution_count": null,
   "id": "6cec862d",
   "metadata": {
    "scrolled": true
   },
   "outputs": [],
   "source": [
    "(sc.timesig(2,4) + seq(sc.xml('text', f'dr={dr}')+mml('L4 c(dr=$(dr)) e') for dr in range(50, 140, 5))).Render().music21().show()"
   ]
  },
  {
   "cell_type": "code",
   "execution_count": null,
   "id": "a626c0ca",
   "metadata": {},
   "outputs": [],
   "source": [
    "mml('[C#* E/ Bb]').music21().show()"
   ]
  },
  {
   "cell_type": "code",
   "execution_count": null,
   "id": "b63fe2cb",
   "metadata": {
    "scrolled": true
   },
   "outputs": [],
   "source": [
    "mml('{dr=75 cde}/3').Render().music21().show()"
   ]
  },
  {
   "cell_type": "code",
   "execution_count": null,
   "id": "a4f931fa",
   "metadata": {},
   "outputs": [],
   "source": [
    "mml('c {rde}/3').music21().show()"
   ]
  },
  {
   "cell_type": "code",
   "execution_count": null,
   "id": "274ad3dd",
   "metadata": {},
   "outputs": [],
   "source": [
    "mml('$timesig(6,8) L8 crr rc~ edc drr r e~~~~ rrr f~~ c~~~c~').music21().show()"
   ]
  },
  {
   "cell_type": "code",
   "execution_count": null,
   "id": "690e988b",
   "metadata": {
    "scrolled": true
   },
   "outputs": [],
   "source": [
    "mml('c/cccc/').music21().show()"
   ]
  },
  {
   "cell_type": "code",
   "execution_count": null,
   "id": "d52a8cb2",
   "metadata": {},
   "outputs": [],
   "source": [
    "mml('L16 f~r~ defb~fc~~d~~').music21().show()"
   ]
  },
  {
   "cell_type": "code",
   "execution_count": null,
   "id": "7db795f6",
   "metadata": {
    "scrolled": true
   },
   "outputs": [],
   "source": [
    "mml('gggg/L64cdefcdef(L=L64+L4) L4ggg').music21().show()"
   ]
  },
  {
   "cell_type": "code",
   "execution_count": null,
   "id": "214f89b4",
   "metadata": {
    "scrolled": false
   },
   "outputs": [],
   "source": [
    "mml('gggg/. L128 cdefcdef L4 gggg').music21().show()"
   ]
  },
  {
   "cell_type": "code",
   "execution_count": null,
   "id": "efb6a821",
   "metadata": {
    "scrolled": false
   },
   "outputs": [],
   "source": [
    "mml(\"{c(L32)&g}|Voice(1)\").music21().show()"
   ]
  },
  {
   "cell_type": "code",
   "execution_count": null,
   "id": "5cc3bb8b",
   "metadata": {
    "scrolled": false
   },
   "outputs": [],
   "source": [
    "mml(\"[{cd}g*]|Voice(1)\").music21().show()"
   ]
  },
  {
   "cell_type": "code",
   "execution_count": null,
   "id": "cdc6e615",
   "metadata": {
    "scrolled": true
   },
   "outputs": [],
   "source": [
    "mml(\"[ce](L=L64)r(L=L1-L64)\").music21().show()"
   ]
  },
  {
   "cell_type": "raw",
   "id": "cbb7e9d0",
   "metadata": {
    "scrolled": false
   },
   "source": [
    "mml('$title(\"Sample\") $meta(M_COPYRIGHT, \"test1\", tk=0) $meta(M_COPYRIGHT, \"test2\", tk=0) cdef').music21().show()"
   ]
  },
  {
   "cell_type": "raw",
   "id": "05ff0209",
   "metadata": {
    "scrolled": true
   },
   "source": [
    "mml('$tempo([100, (L1*4, 130)])& {cdefgah^c}//@8').music21().show()"
   ]
  },
  {
   "cell_type": "code",
   "execution_count": null,
   "id": "04802db3",
   "metadata": {
    "scrolled": true
   },
   "outputs": [],
   "source": [
    "(note(C5, mark='5') & note(G4, mark='.') & note(C4, mark='1')).music21().show()"
   ]
  },
  {
   "cell_type": "code",
   "execution_count": null,
   "id": "7d2523af",
   "metadata": {},
   "outputs": [],
   "source": [
    "note(C4, mark=('fermata', '>')).music21().show()"
   ]
  },
  {
   "cell_type": "markdown",
   "id": "554d9e4d",
   "metadata": {},
   "source": [
    "mml(\"$xmlinfo('text', 'sample') $tempo(150) cdef\").music21().write('musicxml', '/tmp/a.xml')"
   ]
  },
  {
   "cell_type": "code",
   "execution_count": null,
   "id": "8dc6ca77",
   "metadata": {
    "scrolled": true
   },
   "outputs": [],
   "source": [
    "sc.xml('chord', 'G69').music21().show()"
   ]
  },
  {
   "cell_type": "code",
   "execution_count": null,
   "id": "145b2f90",
   "metadata": {
    "scrolled": false
   },
   "outputs": [],
   "source": [
    "s = mml('$timesig(4,4) cd $xml(\"barline\", \"double\") ef $xml(\"barline\", \"double\") gfed').music21()\n",
    "s.show()"
   ]
  },
  {
   "cell_type": "code",
   "execution_count": null,
   "id": "1f7d254a",
   "metadata": {},
   "outputs": [],
   "source": [
    "s = music21.corpus.parse('haydn/opus74no1/movement1.mxl')\n",
    "parts = s.getElementsByClass(music21.stream.Part)\n",
    "# (parts[0].getElementsByClass(music21.stream.Measure))[39][9].getContextByClass(music21.stream.Measure)\n",
    "# parts[0].flat.getElementsByOffset(160)[0].measureNumber # getContextByClass(music21.stream.Measure)\n",
    "Score.frommusic21(s).music21().show()"
   ]
  },
  {
   "cell_type": "code",
   "execution_count": null,
   "id": "f5f69e99",
   "metadata": {},
   "outputs": [],
   "source": [
    "s = music21.corpus.parse('haydn/opus74no1/movement1.mxl')\n",
    "parts = s.getElementsByClass(music21.stream.Part)\n",
    "# parts[0].show()\n",
    "Score.frommusic21(parts)[1].music21().show()"
   ]
  },
  {
   "cell_type": "code",
   "execution_count": null,
   "id": "e4c87651",
   "metadata": {},
   "outputs": [],
   "source": [
    "s = music21.corpus.parse(music21.corpus.getComposer('chopin')[0])\n",
    "# s.show()\n",
    "Score.frommusic21(s).music21().show()"
   ]
  },
  {
   "cell_type": "code",
   "execution_count": null,
   "id": "f17bf8ce",
   "metadata": {},
   "outputs": [],
   "source": [
    "readsmf('grieg.mid').Filter('tk in (1,2,15)').Clip(0, '3').music21(min_note=L32).show()\n",
    "# tomusic21(readsmf('tests/grieg.mid').Filter('tk in (15,)').Clip(0, '2')).show()"
   ]
  },
  {
   "cell_type": "raw",
   "id": "46f8d226",
   "metadata": {},
   "source": [
    "readsmf('tests/scores/mozart.mid').Reject('n<F4').music21().show()"
   ]
  },
  {
   "cell_type": "raw",
   "id": "44d85c1b",
   "metadata": {
    "scrolled": true
   },
   "source": [
    "s = readsmf('tests/scores/mumin.smf', encoding='sjis').Filter('ch == 3 or mtype > 1')\n",
    "# s = s.Clip(\"9\", \"9\")\n",
    "s.music21(L16).show()"
   ]
  }
 ],
 "metadata": {
  "kernelspec": {
   "display_name": "Python 3 (ipykernel)",
   "language": "python",
   "name": "python3"
  },
  "language_info": {
   "codemirror_mode": {
    "name": "ipython",
    "version": 3
   },
   "file_extension": ".py",
   "mimetype": "text/x-python",
   "name": "python",
   "nbconvert_exporter": "python",
   "pygments_lexer": "ipython3",
   "version": "3.10.12"
  }
 },
 "nbformat": 4,
 "nbformat_minor": 5
}
