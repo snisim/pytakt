{
 "cells": [
  {
   "cell_type": "code",
   "execution_count": null,
   "id": "7b1b8c1d",
   "metadata": {
    "scrolled": true
   },
   "outputs": [],
   "source": [
    "from pytakt import *\n",
    "import music21"
   ]
  },
  {
   "cell_type": "code",
   "execution_count": null,
   "id": "73e887b7",
   "metadata": {
    "scrolled": true
   },
   "outputs": [],
   "source": [
    "s = music21.stream.Stream()\n",
    "n = music21.note.Note('C4')\n",
    "s.append(n)\n",
    "Score.frommusic21(s).music21().show()"
   ]
  },
  {
   "cell_type": "code",
   "execution_count": null,
   "id": "23fc621c",
   "metadata": {},
   "outputs": [],
   "source": [
    "s = music21.corpus.parse('bwv66.6')\n",
    "# s.show()\n",
    "Score.frommusic21(s).music21().show()"
   ]
  },
  {
   "cell_type": "code",
   "execution_count": null,
   "id": "a7c5cae3",
   "metadata": {},
   "outputs": [],
   "source": [
    "(readsmf('menuet.mid') & sc.keysig('G-major')).music21().show()"
   ]
  },
  {
   "cell_type": "code",
   "execution_count": null,
   "id": "e41bb614",
   "metadata": {
    "scrolled": true
   },
   "outputs": [],
   "source": [
    "mml('[{L=L128 ceg} ^c]').music21().show()"
   ]
  },
  {
   "cell_type": "code",
   "execution_count": null,
   "id": "65d3c95a",
   "metadata": {},
   "outputs": [],
   "source": [
    "mml('[{L=10 ceg} L4 ^c]').music21().show()"
   ]
  },
  {
   "cell_type": "code",
   "execution_count": null,
   "id": "6a3647c1",
   "metadata": {
    "scrolled": true
   },
   "outputs": [],
   "source": [
    "mml('L8 c~rd~re~').Render().music21(min_note=L64).show()"
   ]
  },
  {
   "cell_type": "code",
   "execution_count": null,
   "id": "bc453044",
   "metadata": {},
   "outputs": [],
   "source": [
    "mml('$timesig(4,4) dr=100 cdef tk=3 $keysig(1,tk=3) [gb]ab^c $keysig(-3) tk=1 cdef').Render().music21().show()"
   ]
  },
  {
   "cell_type": "code",
   "execution_count": null,
   "id": "f4bb4648",
   "metadata": {
    "scrolled": true
   },
   "outputs": [],
   "source": [
    "mml('{dr=3 cde} c').Render().music21(L32).show()"
   ]
  },
  {
   "cell_type": "code",
   "execution_count": null,
   "id": "fccb8328",
   "metadata": {},
   "outputs": [],
   "source": [
    "mml('{c(dr=50)re}/3').Render().music21().show()"
   ]
  },
  {
   "cell_type": "code",
   "execution_count": null,
   "id": "120b4b57",
   "metadata": {
    "scrolled": true
   },
   "outputs": [],
   "source": [
    "mml('{c/d/~e}/3').music21().show()"
   ]
  },
  {
   "cell_type": "code",
   "execution_count": null,
   "id": "2290b091",
   "metadata": {},
   "outputs": [],
   "source": [
    "mml('$timesig(4,4) {cdefcdefcdefg}**/13 cdef').music21().show()"
   ]
  },
  {
   "cell_type": "code",
   "execution_count": null,
   "id": "20169c0c",
   "metadata": {},
   "outputs": [],
   "source": [
    "mml('[{C D E*}|Voice(1) {C C C C}]').music21().show()"
   ]
  },
  {
   "cell_type": "code",
   "execution_count": null,
   "id": "6f89eb30",
   "metadata": {
    "scrolled": false
   },
   "outputs": [],
   "source": [
    "mml('{ccc~cc}/3').music21().show()"
   ]
  },
  {
   "cell_type": "code",
   "execution_count": null,
   "id": "f954c6a6",
   "metadata": {
    "scrolled": false
   },
   "outputs": [],
   "source": [
    "s = mml('{crd~ef}/3').music21()\n",
    "s.show()"
   ]
  },
  {
   "cell_type": "code",
   "execution_count": null,
   "id": "d1d34989",
   "metadata": {
    "scrolled": false
   },
   "outputs": [],
   "source": [
    "mml('{c~~~~c}/3').music21().show()"
   ]
  },
  {
   "cell_type": "code",
   "execution_count": null,
   "id": "08d3a315",
   "metadata": {
    "scrolled": true
   },
   "outputs": [],
   "source": [
    "mml('{rd*f*}*/5').music21().show()"
   ]
  },
  {
   "cell_type": "code",
   "execution_count": null,
   "id": "f76c33db",
   "metadata": {
    "scrolled": true
   },
   "outputs": [],
   "source": [
    "mml('{cdefgabcdefga}/13 ^c').music21().show()"
   ]
  },
  {
   "cell_type": "code",
   "execution_count": null,
   "id": "07bf8cb9",
   "metadata": {
    "scrolled": true
   },
   "outputs": [],
   "source": [
    "mml('{cdefgabcdefgacdef}////17^c').music21().show()"
   ]
  },
  {
   "cell_type": "code",
   "execution_count": null,
   "id": "894f3b5b",
   "metadata": {
    "scrolled": false
   },
   "outputs": [],
   "source": [
    "mml('{cd[eg]~fd}/3').music21().show()"
   ]
  },
  {
   "cell_type": "code",
   "execution_count": null,
   "id": "ef2afa42",
   "metadata": {
    "scrolled": true
   },
   "outputs": [],
   "source": [
    "(sc.timesig(2,4) + seq(sc.xml('text', f'dr={dr}')+mml('L4 c(dr=$(dr)) e') for dr in range(50, 140, 5))).Render().music21().show()"
   ]
  },
  {
   "cell_type": "code",
   "execution_count": null,
   "id": "a2f85d34",
   "metadata": {},
   "outputs": [],
   "source": [
    "mml('[C#* E/ Bb]').music21().show()"
   ]
  },
  {
   "cell_type": "code",
   "execution_count": null,
   "id": "972807fd",
   "metadata": {
    "scrolled": true
   },
   "outputs": [],
   "source": [
    "mml('{dr=75 cde}/3').Render().music21().show()"
   ]
  },
  {
   "cell_type": "code",
   "execution_count": null,
   "id": "a1c6b576",
   "metadata": {},
   "outputs": [],
   "source": [
    "mml('c {rde}/3').music21().show()"
   ]
  },
  {
   "cell_type": "code",
   "execution_count": null,
   "id": "7a3a1fd8",
   "metadata": {},
   "outputs": [],
   "source": [
    "mml('$timesig(6,8) L8 crr rc~ edc drr r e~~~~ rrr f~~ c~~~c~').music21().show()"
   ]
  },
  {
   "cell_type": "code",
   "execution_count": null,
   "id": "60c39d50",
   "metadata": {
    "scrolled": true
   },
   "outputs": [],
   "source": [
    "mml('c/cccc/').music21().show()"
   ]
  },
  {
   "cell_type": "code",
   "execution_count": null,
   "id": "49ffba55",
   "metadata": {},
   "outputs": [],
   "source": [
    "mml('L16 f~r~ defb~fc~~d~~').music21().show()"
   ]
  },
  {
   "cell_type": "code",
   "execution_count": null,
   "id": "10a25776",
   "metadata": {
    "scrolled": true
   },
   "outputs": [],
   "source": [
    "mml('gggg/L64cdefcdef(L=L64+L4) L4ggg').music21().show()"
   ]
  },
  {
   "cell_type": "code",
   "execution_count": null,
   "id": "012dddc3",
   "metadata": {
    "scrolled": false
   },
   "outputs": [],
   "source": [
    "mml('gggg/. L128 cdefcdef L4 gggg').music21().show()"
   ]
  },
  {
   "cell_type": "code",
   "execution_count": null,
   "id": "df7d3c2c",
   "metadata": {
    "scrolled": false
   },
   "outputs": [],
   "source": [
    "mml(\"{c(L32)&g}|Voice(1)\").music21().show()"
   ]
  },
  {
   "cell_type": "code",
   "execution_count": null,
   "id": "5e5dce11",
   "metadata": {
    "scrolled": false
   },
   "outputs": [],
   "source": [
    "mml(\"[{cd}g*]|Voice(1)\").music21().show()"
   ]
  },
  {
   "cell_type": "code",
   "execution_count": null,
   "id": "5ec72257",
   "metadata": {
    "scrolled": true
   },
   "outputs": [],
   "source": [
    "mml(\"[ce](L=L64)r(L=L1-L64)\").music21().show()"
   ]
  },
  {
   "cell_type": "raw",
   "id": "c75618a1",
   "metadata": {
    "scrolled": false
   },
   "source": [
    "mml('$title(\"Sample\") $meta(M_COPYRIGHT, \"test1\", tk=0) $meta(M_COPYRIGHT, \"test2\", tk=0) cdef').music21().show()"
   ]
  },
  {
   "cell_type": "raw",
   "id": "24f75537",
   "metadata": {
    "scrolled": true
   },
   "source": [
    "mml('$tempo([100, (L1*4, 130)])& {cdefgah^c}//@8').music21().show()"
   ]
  },
  {
   "cell_type": "code",
   "execution_count": null,
   "id": "f439aae9",
   "metadata": {
    "scrolled": true
   },
   "outputs": [],
   "source": [
    "(note(C5, mark='5') & note(G4, mark='.') & note(C4, mark='1')).music21().show()"
   ]
  },
  {
   "cell_type": "code",
   "execution_count": null,
   "id": "0ce152ca",
   "metadata": {},
   "outputs": [],
   "source": [
    "note(C4, mark=('fermata', '>')).music21().show()"
   ]
  },
  {
   "cell_type": "markdown",
   "id": "d578b358",
   "metadata": {},
   "source": [
    "mml(\"$xmlinfo('text', 'sample') $tempo(150) cdef\").music21().write('musicxml', '/tmp/a.xml')"
   ]
  },
  {
   "cell_type": "code",
   "execution_count": null,
   "id": "9fb8ce09",
   "metadata": {
    "scrolled": true
   },
   "outputs": [],
   "source": [
    "sc.xml('chord', 'G69').music21().show()"
   ]
  },
  {
   "cell_type": "code",
   "execution_count": null,
   "id": "121f1b2d",
   "metadata": {
    "scrolled": false
   },
   "outputs": [],
   "source": [
    "s = mml('$timesig(4,4) cd $xml(\"barline\", \"double\") ef $xml(\"barline\", \"double\") gfed').music21()\n",
    "s.show()"
   ]
  },
  {
   "cell_type": "code",
   "execution_count": null,
   "id": "10337750",
   "metadata": {},
   "outputs": [],
   "source": [
    "s = music21.corpus.parse('haydn/opus74no1/movement1.mxl')\n",
    "parts = s.getElementsByClass(music21.stream.Part)\n",
    "# (parts[0].getElementsByClass(music21.stream.Measure))[39][9].getContextByClass(music21.stream.Measure)\n",
    "# parts[0].flat.getElementsByOffset(160)[0].measureNumber # getContextByClass(music21.stream.Measure)\n",
    "Score.frommusic21(s).music21().show()"
   ]
  },
  {
   "cell_type": "code",
   "execution_count": null,
   "id": "d6272385",
   "metadata": {},
   "outputs": [],
   "source": [
    "s = music21.corpus.parse('haydn/opus74no1/movement1.mxl')\n",
    "parts = s.getElementsByClass(music21.stream.Part)\n",
    "# parts[0].show()\n",
    "Score.frommusic21(parts)[1].music21().show()"
   ]
  },
  {
   "cell_type": "code",
   "execution_count": null,
   "id": "ec4b4aaf",
   "metadata": {},
   "outputs": [],
   "source": [
    "s = music21.corpus.parse(music21.corpus.getComposer('chopin')[0])\n",
    "# s.show()\n",
    "Score.frommusic21(s).music21().show()"
   ]
  },
  {
   "cell_type": "code",
   "execution_count": null,
   "id": "93659664",
   "metadata": {},
   "outputs": [],
   "source": [
    "readsmf('grieg.mid').Filter('tk in (1,2,15)').Clip(0, '3').music21(min_note=L32).show()\n",
    "# tomusic21(readsmf('tests/grieg.mid').Filter('tk in (15,)').Clip(0, '2')).show()"
   ]
  },
  {
   "cell_type": "raw",
   "id": "e9abd14b",
   "metadata": {},
   "source": [
    "readsmf('tests/scores/mozart.mid').Reject('n<F4').music21().show()"
   ]
  },
  {
   "cell_type": "raw",
   "id": "f5c06b49",
   "metadata": {
    "scrolled": true
   },
   "source": [
    "s = readsmf('tests/scores/mumin.smf', encoding='sjis').Filter('ch == 3 or mtype > 1')\n",
    "# s = s.Clip(\"9\", \"9\")\n",
    "s.music21(L16).show()"
   ]
  }
 ],
 "metadata": {
  "kernelspec": {
   "display_name": "Python 3",
   "language": "python",
   "name": "python3"
  },
  "language_info": {
   "codemirror_mode": {
    "name": "ipython",
    "version": 3
   },
   "file_extension": ".py",
   "mimetype": "text/x-python",
   "name": "python",
   "nbconvert_exporter": "python",
   "pygments_lexer": "ipython3",
   "version": "3.8.10"
  }
 },
 "nbformat": 4,
 "nbformat_minor": 5
}
