{
 "cells": [
  {
   "cell_type": "code",
   "execution_count": 1,
   "id": "9563a776",
   "metadata": {
    "scrolled": false
   },
   "outputs": [],
   "source": [
    "import music21\n",
    "from pytakt import *"
   ]
  },
  {
   "cell_type": "code",
   "execution_count": 2,
   "id": "ca871e7a",
   "metadata": {
    "scrolled": true
   },
   "outputs": [
    {
     "data": {
      "text/plain": [
       "'Csus4(M7,omit5)'"
      ]
     },
     "execution_count": 2,
     "metadata": {},
     "output_type": "execute_result"
    }
   ],
   "source": [
    "Chord.from_chroma_profile([1,0,0,0,0,1,0,0,0,0,0,1], bass=C4).name()"
   ]
  },
  {
   "cell_type": "code",
   "execution_count": 3,
   "id": "cce30e46",
   "metadata": {},
   "outputs": [
    {
     "data": {
      "text/plain": [
       "'Eaug7(omit3)'"
      ]
     },
     "execution_count": 3,
     "metadata": {},
     "output_type": "execute_result"
    }
   ],
   "source": [
    "Chord.from_chroma_profile([1,0,1,0,1,0,0,0,0,0,0,0]).name()"
   ]
  },
  {
   "cell_type": "code",
   "execution_count": 4,
   "id": "fea3f923",
   "metadata": {},
   "outputs": [
    {
     "data": {
      "text/plain": [
       "'C#M7(b9,omit3,omit5)'"
      ]
     },
     "execution_count": 4,
     "metadata": {},
     "output_type": "execute_result"
    }
   ],
   "source": [
    "Chord.from_chroma_profile([1,1,1,0,0,0,0,0,0,0,0,0]).name()"
   ]
  },
  {
   "cell_type": "code",
   "execution_count": 5,
   "id": "a2fad9b0",
   "metadata": {},
   "outputs": [
    {
     "data": {
      "text/plain": [
       "'D7(omit3,omit5)'"
      ]
     },
     "execution_count": 5,
     "metadata": {},
     "output_type": "execute_result"
    }
   ],
   "source": [
    "Chord.from_chroma_profile([1,0,1,0,0,0,0,0,0,0,0,0]).name()"
   ]
  },
  {
   "cell_type": "code",
   "execution_count": 6,
   "id": "4f224a98",
   "metadata": {},
   "outputs": [
    {
     "data": {
      "text/plain": [
       "'C#M7(omit3,omit5)'"
      ]
     },
     "execution_count": 6,
     "metadata": {},
     "output_type": "execute_result"
    }
   ],
   "source": [
    "Chord.from_chroma_profile([1,1,0,0,0,0,0,0,0,0,0,0]).name()"
   ]
  },
  {
   "cell_type": "code",
   "execution_count": 7,
   "id": "a02f376c",
   "metadata": {},
   "outputs": [
    {
     "data": {
      "text/plain": [
       "'E(b9,omit3)'"
      ]
     },
     "execution_count": 7,
     "metadata": {},
     "output_type": "execute_result"
    }
   ],
   "source": [
    "Chord.from_chroma_profile([0,0,0,0,1,1,0,0,0,0,0,1]).name()"
   ]
  },
  {
   "cell_type": "code",
   "execution_count": 8,
   "id": "1a94c01b",
   "metadata": {},
   "outputs": [
    {
     "data": {
      "text/plain": [
       "'C(9,omit5)'"
      ]
     },
     "execution_count": 8,
     "metadata": {},
     "output_type": "execute_result"
    }
   ],
   "source": [
    "Chord.from_chroma_profile([1,0,1,0,1,0,0,0,0,0,0,0], bass=C4).name()"
   ]
  },
  {
   "cell_type": "code",
   "execution_count": 9,
   "id": "8c66630e",
   "metadata": {},
   "outputs": [
    {
     "data": {
      "text/plain": [
       "'C7/E'"
      ]
     },
     "execution_count": 9,
     "metadata": {},
     "output_type": "execute_result"
    }
   ],
   "source": [
    "Chord.from_chroma_profile([1,0,0,0,1,0,0,1,0,0,1,0], bass=E4).name()"
   ]
  },
  {
   "cell_type": "code",
   "execution_count": 10,
   "id": "0691f2ff",
   "metadata": {},
   "outputs": [
    {
     "data": {
      "text/plain": [
       "'Am(11)/C'"
      ]
     },
     "execution_count": 10,
     "metadata": {},
     "output_type": "execute_result"
    }
   ],
   "source": [
    "Chord.from_chroma_profile([1,0,1,0,1,0,0,0,0,1,0,0], bass=C4).name()"
   ]
  },
  {
   "cell_type": "code",
   "execution_count": 11,
   "id": "1471f28e",
   "metadata": {},
   "outputs": [
    {
     "data": {
      "text/plain": [
       "'A(#9,11,#11)'"
      ]
     },
     "execution_count": 11,
     "metadata": {},
     "output_type": "execute_result"
    }
   ],
   "source": [
    "Chord.from_chroma_profile([1,1,1,1,1,0,0,0,0,1,0,0]).name()"
   ]
  },
  {
   "cell_type": "code",
   "execution_count": 12,
   "id": "810e164e",
   "metadata": {},
   "outputs": [
    {
     "data": {
      "text/plain": [
       "'C7(b5)'"
      ]
     },
     "execution_count": 12,
     "metadata": {},
     "output_type": "execute_result"
    }
   ],
   "source": [
    "Chord.from_chroma_profile([1,0,0,0,1,0,1,0,0,0,1,0]).name()"
   ]
  },
  {
   "cell_type": "code",
   "execution_count": 13,
   "id": "9846ce06",
   "metadata": {
    "scrolled": true
   },
   "outputs": [
    {
     "data": {
      "text/plain": [
       "'C5'"
      ]
     },
     "execution_count": 13,
     "metadata": {},
     "output_type": "execute_result"
    }
   ],
   "source": [
    "Chord.from_chroma_profile([1,0,0,0,0,0,0,1,0,0,0,0]).name()"
   ]
  },
  {
   "cell_type": "code",
   "execution_count": 14,
   "id": "e1509262",
   "metadata": {},
   "outputs": [
    {
     "data": {
      "text/plain": [
       "'Csus2'"
      ]
     },
     "execution_count": 14,
     "metadata": {},
     "output_type": "execute_result"
    }
   ],
   "source": [
    "Chord.from_chroma_profile([1,0,1,0,0,0,0,1,0,0,0,0], bass=C4).name()"
   ]
  },
  {
   "cell_type": "code",
   "execution_count": 15,
   "id": "2819ca4c",
   "metadata": {},
   "outputs": [
    {
     "data": {
      "text/plain": [
       "'F7sus4'"
      ]
     },
     "execution_count": 15,
     "metadata": {},
     "output_type": "execute_result"
    }
   ],
   "source": [
    "Chord.from_chroma_profile([1,0,0,1,0,1,0,0,0,0,1,0]).name()"
   ]
  },
  {
   "cell_type": "code",
   "execution_count": null,
   "id": "b695032d",
   "metadata": {},
   "outputs": [],
   "source": []
  },
  {
   "cell_type": "code",
   "execution_count": null,
   "id": "63c74a8c",
   "metadata": {},
   "outputs": [],
   "source": []
  }
 ],
 "metadata": {
  "kernelspec": {
   "display_name": "Python 3",
   "language": "python",
   "name": "python3"
  },
  "language_info": {
   "codemirror_mode": {
    "name": "ipython",
    "version": 3
   },
   "file_extension": ".py",
   "mimetype": "text/x-python",
   "name": "python",
   "nbconvert_exporter": "python",
   "pygments_lexer": "ipython3",
   "version": "3.8.10"
  }
 },
 "nbformat": 4,
 "nbformat_minor": 5
}
