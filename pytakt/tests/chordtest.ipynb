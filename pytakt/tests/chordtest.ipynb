{
 "cells": [
  {
   "cell_type": "code",
   "execution_count": 1,
   "id": "18643e9f",
   "metadata": {
    "scrolled": false
   },
   "outputs": [],
   "source": [
    "import music21\n",
    "from takt import *"
   ]
  },
  {
   "cell_type": "code",
   "execution_count": 2,
   "id": "e497d799",
   "metadata": {
    "scrolled": true
   },
   "outputs": [
    {
     "data": {
      "text/plain": [
       "'Csus4(M7,omit5)'"
      ]
     },
     "execution_count": 2,
     "metadata": {},
     "output_type": "execute_result"
    }
   ],
   "source": [
    "Chord.from_chroma_profile([1,0,0,0,0,1,0,0,0,0,0,1], bass=C4).name()"
   ]
  },
  {
   "cell_type": "code",
   "execution_count": 3,
   "id": "7363263e",
   "metadata": {},
   "outputs": [
    {
     "data": {
      "text/plain": [
       "'Eaug7(omit3)'"
      ]
     },
     "execution_count": 3,
     "metadata": {},
     "output_type": "execute_result"
    }
   ],
   "source": [
    "Chord.from_chroma_profile([1,0,1,0,1,0,0,0,0,0,0,0]).name()"
   ]
  },
  {
   "cell_type": "code",
   "execution_count": 4,
   "id": "e1b0041d",
   "metadata": {},
   "outputs": [
    {
     "data": {
      "text/plain": [
       "'C#M7(b9,omit3,omit5)'"
      ]
     },
     "execution_count": 4,
     "metadata": {},
     "output_type": "execute_result"
    }
   ],
   "source": [
    "Chord.from_chroma_profile([1,1,1,0,0,0,0,0,0,0,0,0]).name()"
   ]
  },
  {
   "cell_type": "code",
   "execution_count": 5,
   "id": "f7c43fa4",
   "metadata": {},
   "outputs": [
    {
     "data": {
      "text/plain": [
       "'D7(omit3,omit5)'"
      ]
     },
     "execution_count": 5,
     "metadata": {},
     "output_type": "execute_result"
    }
   ],
   "source": [
    "Chord.from_chroma_profile([1,0,1,0,0,0,0,0,0,0,0,0]).name()"
   ]
  },
  {
   "cell_type": "code",
   "execution_count": 6,
   "id": "129e1eeb",
   "metadata": {},
   "outputs": [
    {
     "data": {
      "text/plain": [
       "'C#M7(omit3,omit5)'"
      ]
     },
     "execution_count": 6,
     "metadata": {},
     "output_type": "execute_result"
    }
   ],
   "source": [
    "Chord.from_chroma_profile([1,1,0,0,0,0,0,0,0,0,0,0]).name()"
   ]
  },
  {
   "cell_type": "code",
   "execution_count": 7,
   "id": "4e74f3b8",
   "metadata": {},
   "outputs": [
    {
     "data": {
      "text/plain": [
       "'E(b9,omit3)'"
      ]
     },
     "execution_count": 7,
     "metadata": {},
     "output_type": "execute_result"
    }
   ],
   "source": [
    "Chord.from_chroma_profile([0,0,0,0,1,1,0,0,0,0,0,1]).name()"
   ]
  },
  {
   "cell_type": "code",
   "execution_count": 8,
   "id": "ebb456aa",
   "metadata": {},
   "outputs": [
    {
     "data": {
      "text/plain": [
       "'C(9,omit5)'"
      ]
     },
     "execution_count": 8,
     "metadata": {},
     "output_type": "execute_result"
    }
   ],
   "source": [
    "Chord.from_chroma_profile([1,0,1,0,1,0,0,0,0,0,0,0], bass=C4).name()"
   ]
  },
  {
   "cell_type": "code",
   "execution_count": 9,
   "id": "94935210",
   "metadata": {},
   "outputs": [
    {
     "data": {
      "text/plain": [
       "'C7/E'"
      ]
     },
     "execution_count": 9,
     "metadata": {},
     "output_type": "execute_result"
    }
   ],
   "source": [
    "Chord.from_chroma_profile([1,0,0,0,1,0,0,1,0,0,1,0], bass=E4).name()"
   ]
  },
  {
   "cell_type": "code",
   "execution_count": 10,
   "id": "94e2a155",
   "metadata": {},
   "outputs": [
    {
     "data": {
      "text/plain": [
       "'Am(11)/C'"
      ]
     },
     "execution_count": 10,
     "metadata": {},
     "output_type": "execute_result"
    }
   ],
   "source": [
    "Chord.from_chroma_profile([1,0,1,0,1,0,0,0,0,1,0,0], bass=C4).name()"
   ]
  },
  {
   "cell_type": "code",
   "execution_count": 11,
   "id": "5c73aba8",
   "metadata": {},
   "outputs": [
    {
     "data": {
      "text/plain": [
       "'A(#9,11,#11)'"
      ]
     },
     "execution_count": 11,
     "metadata": {},
     "output_type": "execute_result"
    }
   ],
   "source": [
    "Chord.from_chroma_profile([1,1,1,1,1,0,0,0,0,1,0,0]).name()"
   ]
  },
  {
   "cell_type": "code",
   "execution_count": 12,
   "id": "651c486c",
   "metadata": {},
   "outputs": [
    {
     "data": {
      "text/plain": [
       "'C7(b5)'"
      ]
     },
     "execution_count": 12,
     "metadata": {},
     "output_type": "execute_result"
    }
   ],
   "source": [
    "Chord.from_chroma_profile([1,0,0,0,1,0,1,0,0,0,1,0]).name()"
   ]
  },
  {
   "cell_type": "code",
   "execution_count": 13,
   "id": "da93f1f7",
   "metadata": {
    "scrolled": true
   },
   "outputs": [
    {
     "data": {
      "text/plain": [
       "'C5'"
      ]
     },
     "execution_count": 13,
     "metadata": {},
     "output_type": "execute_result"
    }
   ],
   "source": [
    "Chord.from_chroma_profile([1,0,0,0,0,0,0,1,0,0,0,0]).name()"
   ]
  },
  {
   "cell_type": "code",
   "execution_count": 14,
   "id": "cf2aaefc",
   "metadata": {},
   "outputs": [
    {
     "data": {
      "text/plain": [
       "'Csus2'"
      ]
     },
     "execution_count": 14,
     "metadata": {},
     "output_type": "execute_result"
    }
   ],
   "source": [
    "Chord.from_chroma_profile([1,0,1,0,0,0,0,1,0,0,0,0], bass=C4).name()"
   ]
  },
  {
   "cell_type": "code",
   "execution_count": 15,
   "id": "9aab35d2",
   "metadata": {},
   "outputs": [
    {
     "data": {
      "text/plain": [
       "'F7sus4'"
      ]
     },
     "execution_count": 15,
     "metadata": {},
     "output_type": "execute_result"
    }
   ],
   "source": [
    "Chord.from_chroma_profile([1,0,0,1,0,1,0,0,0,0,1,0]).name()"
   ]
  },
  {
   "cell_type": "code",
   "execution_count": null,
   "id": "2fcf2b51",
   "metadata": {},
   "outputs": [],
   "source": []
  },
  {
   "cell_type": "code",
   "execution_count": null,
   "id": "0ad82833",
   "metadata": {},
   "outputs": [],
   "source": []
  }
 ],
 "metadata": {
  "kernelspec": {
   "display_name": "Python 3",
   "language": "python",
   "name": "python3"
  },
  "language_info": {
   "codemirror_mode": {
    "name": "ipython",
    "version": 3
   },
   "file_extension": ".py",
   "mimetype": "text/x-python",
   "name": "python",
   "nbconvert_exporter": "python",
   "pygments_lexer": "ipython3",
   "version": "3.6.9"
  }
 },
 "nbformat": 4,
 "nbformat_minor": 5
}
